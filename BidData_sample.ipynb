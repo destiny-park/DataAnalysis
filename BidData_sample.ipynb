{
  "nbformat": 4,
  "nbformat_minor": 0,
  "metadata": {
    "colab": {
      "name": "BidData_sample.ipynb",
      "provenance": [],
      "mount_file_id": "1TEolUOjVemZTp3qEGZzo-1bB03ySJlYN",
      "authorship_tag": "ABX9TyMYX88Du2Dnuu1J2axjOh4w",
      "include_colab_link": true
    },
    "kernelspec": {
      "name": "python3",
      "display_name": "Python 3"
    },
    "language_info": {
      "name": "python"
    }
  },
  "cells": [
    {
      "cell_type": "markdown",
      "metadata": {
        "id": "view-in-github",
        "colab_type": "text"
      },
      "source": [
        "<a href=\"https://colab.research.google.com/github/destiny-park/DataAnalysis/blob/main/BidData_sample.ipynb\" target=\"_parent\"><img src=\"https://colab.research.google.com/assets/colab-badge.svg\" alt=\"Open In Colab\"/></a>"
      ]
    },
    {
      "cell_type": "markdown",
      "source": [
        "빅데이터 분석기사 작업용 데이터가 들어있는 Google Drive 마운트\n"
      ],
      "metadata": {
        "id": "KfelzilK-4tl"
      }
    },
    {
      "cell_type": "code",
      "source": [
        "from google.colab import drive\n",
        "drive.mount('/content/drive')"
      ],
      "metadata": {
        "colab": {
          "base_uri": "https://localhost:8080/"
        },
        "id": "fhjhroUV-mzA",
        "outputId": "b8669b9f-5999-4595-876f-a75edfc9def8"
      },
      "execution_count": null,
      "outputs": [
        {
          "output_type": "stream",
          "name": "stdout",
          "text": [
            "Drive already mounted at /content/drive; to attempt to forcibly remount, call drive.mount(\"/content/drive\", force_remount=True).\n"
          ]
        }
      ]
    },
    {
      "cell_type": "markdown",
      "source": [
        "## **작업형 1번**\n",
        "mtcars.csv 데이터의 qsec 컬럼을 최소최대 척도(Min-Max Scale)로 변환한 후 0.5 보다 큰 값을 가지는 레코드의 수를 구하시오"
      ],
      "metadata": {
        "id": "FnD4I3oh_A1r"
      }
    },
    {
      "cell_type": "code",
      "source": [
        "import pandas as pd\n",
        "from sklearn.preprocessing import MinMaxScaler\n",
        "\n",
        "\n",
        "mtcars = r'/content/drive/MyDrive/DataAnalysis/BigData_sample/mtcars.csv'\n",
        "df = pd.read_csv(mtcars)\n",
        "\n",
        "mm = MinMaxScaler()\n",
        "mm.fit(df['qsec'].values.reshape(-1,1))\n",
        "\n",
        "df['scaling'] = mm.transform(df['qsec'].values.reshape(-1,1))\n",
        "df_new = df.loc[df['scaling']>0.5]\n",
        "\n",
        "\n",
        "print(df_new.shape[0])\n"
      ],
      "metadata": {
        "colab": {
          "base_uri": "https://localhost:8080/"
        },
        "id": "shBodsKkAPpI",
        "outputId": "eae50952-bdeb-4385-876c-3e9c1412ec43"
      },
      "execution_count": null,
      "outputs": [
        {
          "output_type": "stream",
          "name": "stdout",
          "text": [
            "9\n"
          ]
        }
      ]
    },
    {
      "cell_type": "markdown",
      "source": [
        "## **작업형 2번**\n",
        "\n",
        "**제공데이터 목록 :**\n",
        "1) y_train.csv : 고객의 성별 데이터 (학습용), CSV 파일의 형식\n",
        "2) X_train.csv, X_test.csv : 고객의 상품구매 속성 (학습용 및 평가용), CSV 형식의 파일\n",
        "\n",
        "**데이터 형식 및 내용**\n",
        "1) y_train : 3500 명데이터\n",
        "-cust_id : 고객의 ID\n",
        "_gender : 고객의 성별 (0:여자, 1:남자)\n",
        "\n",
        "2) X_train.csv (3500명 데이터), X_test (2482명 데이터)\n",
        "\n",
        "**문제**\n",
        "고객 350명에 대한 학습용 데이터(y_train.csv, X_train.csv)를 이용하여 성별예측 모형을 만든 후, 이를 평가용 데이터(X_test.csv)에 적용하여 얻은 2,482명 고객 성별 예측값(남자일 확률)을 다음과 같은 형식의 CSV 파일로 생성하시오(제출한 모델의 성능은 ROC-AUC 평가 지표에 따라 채점)\n",
        "\n",
        "**<유의사항>**\n",
        "성능이 우수한 예측모형을 구축하기 위해서는 적절한 데이터 전처리, Feature Engineering, 분류 알고리즘 사용, 초매개변수 최적화, 모형 앙상블 등이 수반되어야 한다.\n"
      ],
      "metadata": {
        "id": "430hVjW__Rv6"
      }
    },
    {
      "cell_type": "markdown",
      "source": [
        "**작업 순서**\n",
        "\n",
        "1.   라이브러리 불러오기\n",
        "2.   데이터불러오기\n",
        "3. EDA수행\n",
        "4. 데이터 전처리(MED)\n",
        "5. 피처엔지니어링 (sklearn.preprocessing)\n",
        "6. 모델링 & 하이퍼 파라미터 튜닝 & 앙상블\n",
        "7. CSV 파일 내보내기\n"
      ],
      "metadata": {
        "id": "r3a2RGp3QY9a"
      }
    },
    {
      "cell_type": "code",
      "source": [
        "#1.라이브러리\n",
        "import pandas as pd\n",
        "\n",
        "#2.데이터불러오기\n",
        "test = pd.read_csv(\"/content/drive/MyDrive/DataAnalysis/BigData_sample/X_test.csv\",encoding='euc-kr')\n",
        "X = pd.read_csv(\"/content/drive/MyDrive/DataAnalysis/BigData_sample/X_train.csv\",encoding='euc-kr')\n",
        "y = pd.read_csv(\"/content/drive/MyDrive/DataAnalysis/BigData_sample/y_train.csv\",encoding='euc-kr')\n",
        "\n",
        "print(\"Reading dataset completed\")\n"
      ],
      "metadata": {
        "colab": {
          "base_uri": "https://localhost:8080/"
        },
        "id": "9Wy-C3pzD0pZ",
        "outputId": "b9bfa8c2-e346-4d9d-ced7-7546a3d4c8df"
      },
      "execution_count": null,
      "outputs": [
        {
          "output_type": "stream",
          "name": "stdout",
          "text": [
            "Reading dataset completed\n"
          ]
        }
      ]
    },
    {
      "cell_type": "code",
      "source": [
        "#3.EDA\n",
        "#--> HIDI : head(), info(), describe(), isnull() 수행을 통한 데이터 탐색\n",
        "\n",
        "#3-1) 데이터전처리 \n",
        "#--> MED : M-결측값처리_fillna(), E-인코딩_get_dummies(), D-Drop\n",
        "#결측값 제거\n",
        "X = X.fillna(0)\n",
        "test = test.fillna(0)\n",
        "\n",
        "#ID값은 학습 시 필요하지 않으므로 삭제\n",
        "X = X.drop(['cust_id'],axis=1)\n",
        "cust_id = test.pop('cust_id') #CSV 파일 생성시 필요하므로, 잠시 넣어둠"
      ],
      "metadata": {
        "id": "Nb1x0dVTJNZc"
      },
      "execution_count": null,
      "outputs": []
    },
    {
      "cell_type": "code",
      "source": [
        "#3-2) 피처엔지니어링\n",
        "# 범주형 필드에 대해 레이블 인코딩 (수치화 하는 작업)\n",
        "from sklearn.preprocessing import LabelEncoder\n",
        "cols = ['주구매상품','주구매지점']\n",
        "for col in cols :\n",
        "  le = LabelEncoder()\n",
        "  X[col] = le.fit_transform(X[col])\n",
        "  test[col] = le.fit_transform(test[col])\n",
        " "
      ],
      "metadata": {
        "id": "sQEm77qLKNF1"
      },
      "execution_count": null,
      "outputs": []
    },
    {
      "cell_type": "code",
      "source": [
        "#4. 모델링 & 하이퍼 파라미터 튜닝 & 앙상블\n",
        "from sklearn.ensemble import RandomForestClassifier\n",
        "model = RandomForestClassifier(n_estimators=100, max_depth=5, random_state=2022)\n",
        "model.fit(X,y['gender'])\n",
        "print(model.score(X,y['gender']))\n",
        "predictions = model.predict_proba(test)\n",
        "\n"
      ],
      "metadata": {
        "colab": {
          "base_uri": "https://localhost:8080/"
        },
        "id": "APHbTqCZKw0O",
        "outputId": "aaf4f783-8c49-455c-dc1f-ba98670ca90d"
      },
      "execution_count": null,
      "outputs": [
        {
          "output_type": "stream",
          "name": "stdout",
          "text": [
            "0.6874285714285714\n"
          ]
        }
      ]
    },
    {
      "cell_type": "code",
      "source": [
        "#5. csv 내보내기\n",
        "output = pd.DataFrame({'cust_id':cust_id,\"gender\":predictions[:,1]})\n",
        "output.to_csv(\"/content/drive/MyDrive/DataAnalysis/BigData_sample/0000.csv\",index=False)"
      ],
      "metadata": {
        "id": "8h_t9w_CLMj8"
      },
      "execution_count": null,
      "outputs": []
    }
  ]
}